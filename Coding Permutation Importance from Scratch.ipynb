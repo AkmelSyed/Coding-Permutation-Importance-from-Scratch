{
 "cells": [
  {
   "cell_type": "markdown",
   "id": "c27ead78-321f-4539-b0fc-a2e88a5ddada",
   "metadata": {},
   "source": [
    "# Coding Permutation Importance from Scratch\n",
    "\n",
    "In this notebook, we'll recreate SKlearn's permutation importance from scratch.\n",
    "\n",
    "If you already know about it, then you can skip to the code, otherwise here's why it's important.\n",
    "\n",
    "Permutation importance is a model agnostice (fancy way to say it works with any model) explainability technique used to obtain the importance of features based on their impact on a trained ML model’s prediction.\n",
    "\n",
    "The permutation feature importance is defined as the decrease in a model score when a single feature value is randomly shuffled. It breaks the relationship between the feature and the target, thus the drop in the model score is indicative of how much the model depends on the feature.\n",
    "\n",
    "It's mainly used for tabular datasets.\n",
    "\n",
    "The way it works is that it takes an already trained ML model and a the test set. It computes the reference score of the model on the test data and then shuffles each feature one by one. For each feature, it computes the difference between the reference score and the score obtained after permuting that feature (hence the name permutation importance). The larger this difference, the more important that feature is for the model."
   ]
  },
  {
   "cell_type": "code",
   "execution_count": 1,
   "id": "7dafe427-23f2-4831-b542-b6773f22b873",
   "metadata": {},
   "outputs": [],
   "source": [
    "from sklearn import datasets\n",
    "import pandas as pd\n",
    "from sklearn.model_selection import train_test_split\n",
    "from sklearn.ensemble import RandomForestRegressor\n",
    "import numpy as np\n",
    "import matplotlib.pyplot as plt"
   ]
  },
  {
   "cell_type": "markdown",
   "id": "4e9b4bf1-e17a-444c-a3dd-de8f182c67fe",
   "metadata": {},
   "source": [
    "We'll load the popular diabetes dataset. Using this dataset, because it's a nice clean dataset. No nulls and only numbers. No pipeline required."
   ]
  },
  {
   "cell_type": "code",
   "execution_count": 2,
   "id": "9a97bc99-18c3-4775-b50f-2aa6a52caaef",
   "metadata": {},
   "outputs": [],
   "source": [
    "X, y = datasets.load_diabetes(return_X_y=True, as_frame=True)"
   ]
  },
  {
   "cell_type": "markdown",
   "id": "6a64fd98-9182-451e-b7be-3f961a738bfc",
   "metadata": {},
   "source": [
    "In case you've never seen the diabetes dataset, here's a preview."
   ]
  },
  {
   "cell_type": "code",
   "execution_count": 3,
   "id": "a1b5f059-f3a9-4247-8527-bfdc8453a188",
   "metadata": {},
   "outputs": [
    {
     "data": {
      "text/html": [
       "<div>\n",
       "<style scoped>\n",
       "    .dataframe tbody tr th:only-of-type {\n",
       "        vertical-align: middle;\n",
       "    }\n",
       "\n",
       "    .dataframe tbody tr th {\n",
       "        vertical-align: top;\n",
       "    }\n",
       "\n",
       "    .dataframe thead th {\n",
       "        text-align: right;\n",
       "    }\n",
       "</style>\n",
       "<table border=\"1\" class=\"dataframe\">\n",
       "  <thead>\n",
       "    <tr style=\"text-align: right;\">\n",
       "      <th></th>\n",
       "      <th>age</th>\n",
       "      <th>sex</th>\n",
       "      <th>bmi</th>\n",
       "      <th>bp</th>\n",
       "      <th>s1</th>\n",
       "      <th>s2</th>\n",
       "      <th>s3</th>\n",
       "      <th>s4</th>\n",
       "      <th>s5</th>\n",
       "      <th>s6</th>\n",
       "    </tr>\n",
       "  </thead>\n",
       "  <tbody>\n",
       "    <tr>\n",
       "      <th>0</th>\n",
       "      <td>0.038076</td>\n",
       "      <td>0.050680</td>\n",
       "      <td>0.061696</td>\n",
       "      <td>0.021872</td>\n",
       "      <td>-0.044223</td>\n",
       "      <td>-0.034821</td>\n",
       "      <td>-0.043401</td>\n",
       "      <td>-0.002592</td>\n",
       "      <td>0.019908</td>\n",
       "      <td>-0.017646</td>\n",
       "    </tr>\n",
       "    <tr>\n",
       "      <th>1</th>\n",
       "      <td>-0.001882</td>\n",
       "      <td>-0.044642</td>\n",
       "      <td>-0.051474</td>\n",
       "      <td>-0.026328</td>\n",
       "      <td>-0.008449</td>\n",
       "      <td>-0.019163</td>\n",
       "      <td>0.074412</td>\n",
       "      <td>-0.039493</td>\n",
       "      <td>-0.068330</td>\n",
       "      <td>-0.092204</td>\n",
       "    </tr>\n",
       "    <tr>\n",
       "      <th>2</th>\n",
       "      <td>0.085299</td>\n",
       "      <td>0.050680</td>\n",
       "      <td>0.044451</td>\n",
       "      <td>-0.005671</td>\n",
       "      <td>-0.045599</td>\n",
       "      <td>-0.034194</td>\n",
       "      <td>-0.032356</td>\n",
       "      <td>-0.002592</td>\n",
       "      <td>0.002864</td>\n",
       "      <td>-0.025930</td>\n",
       "    </tr>\n",
       "    <tr>\n",
       "      <th>3</th>\n",
       "      <td>-0.089063</td>\n",
       "      <td>-0.044642</td>\n",
       "      <td>-0.011595</td>\n",
       "      <td>-0.036656</td>\n",
       "      <td>0.012191</td>\n",
       "      <td>0.024991</td>\n",
       "      <td>-0.036038</td>\n",
       "      <td>0.034309</td>\n",
       "      <td>0.022692</td>\n",
       "      <td>-0.009362</td>\n",
       "    </tr>\n",
       "    <tr>\n",
       "      <th>4</th>\n",
       "      <td>0.005383</td>\n",
       "      <td>-0.044642</td>\n",
       "      <td>-0.036385</td>\n",
       "      <td>0.021872</td>\n",
       "      <td>0.003935</td>\n",
       "      <td>0.015596</td>\n",
       "      <td>0.008142</td>\n",
       "      <td>-0.002592</td>\n",
       "      <td>-0.031991</td>\n",
       "      <td>-0.046641</td>\n",
       "    </tr>\n",
       "  </tbody>\n",
       "</table>\n",
       "</div>"
      ],
      "text/plain": [
       "        age       sex       bmi        bp        s1        s2        s3  \\\n",
       "0  0.038076  0.050680  0.061696  0.021872 -0.044223 -0.034821 -0.043401   \n",
       "1 -0.001882 -0.044642 -0.051474 -0.026328 -0.008449 -0.019163  0.074412   \n",
       "2  0.085299  0.050680  0.044451 -0.005671 -0.045599 -0.034194 -0.032356   \n",
       "3 -0.089063 -0.044642 -0.011595 -0.036656  0.012191  0.024991 -0.036038   \n",
       "4  0.005383 -0.044642 -0.036385  0.021872  0.003935  0.015596  0.008142   \n",
       "\n",
       "         s4        s5        s6  \n",
       "0 -0.002592  0.019908 -0.017646  \n",
       "1 -0.039493 -0.068330 -0.092204  \n",
       "2 -0.002592  0.002864 -0.025930  \n",
       "3  0.034309  0.022692 -0.009362  \n",
       "4 -0.002592 -0.031991 -0.046641  "
      ]
     },
     "execution_count": 3,
     "metadata": {},
     "output_type": "execute_result"
    }
   ],
   "source": [
    "X.head()"
   ]
  },
  {
   "cell_type": "markdown",
   "id": "59c51d77-d556-415b-971c-ff1217d92256",
   "metadata": {},
   "source": [
    "We'll split into train and test. We'll use the test set to calculate the permutations importance. Also, not setting a split percentage, defaults to 25% for the test set."
   ]
  },
  {
   "cell_type": "code",
   "execution_count": 4,
   "id": "011cfcbf-8c2b-4413-9dff-a3b9428974af",
   "metadata": {},
   "outputs": [],
   "source": [
    "X_train, X_test, y_train, y_test = train_test_split(X, y, random_state=42)"
   ]
  },
  {
   "cell_type": "markdown",
   "id": "5a1565a5-db82-4947-b4a8-0d0241857f74",
   "metadata": {},
   "source": [
    "Because we don't care about performance, we'll train a vanilla random forest. Using random forest also allows us to not have to standardize/normalize the data."
   ]
  },
  {
   "cell_type": "code",
   "execution_count": 5,
   "id": "ce546364-a0cc-4941-9d7d-fe2d6662a62d",
   "metadata": {},
   "outputs": [],
   "source": [
    "rf = RandomForestRegressor()"
   ]
  },
  {
   "cell_type": "code",
   "execution_count": 6,
   "id": "f249bde1-1cac-4d6f-9c7e-7e032dfb63a2",
   "metadata": {},
   "outputs": [
    {
     "data": {
      "text/plain": [
       "RandomForestRegressor()"
      ]
     },
     "execution_count": 6,
     "metadata": {},
     "output_type": "execute_result"
    }
   ],
   "source": [
    "rf.fit(X_train, y_train)"
   ]
  },
  {
   "cell_type": "markdown",
   "id": "b07223bb-8091-4544-85e6-3ce1c66db1f3",
   "metadata": {},
   "source": [
    "We'll get the R2 score for our trained model. It's the reference we'll use to compare our shuffled feature results."
   ]
  },
  {
   "cell_type": "code",
   "execution_count": 7,
   "id": "ca0cceb4-c7b4-4375-84cc-fb0d0305dfc3",
   "metadata": {},
   "outputs": [
    {
     "data": {
      "text/plain": [
       "0.5064246498217824"
      ]
     },
     "execution_count": 7,
     "metadata": {},
     "output_type": "execute_result"
    }
   ],
   "source": [
    "rf.score(X_test, y_test)"
   ]
  },
  {
   "cell_type": "markdown",
   "id": "9e36e353-0ebc-4925-bfd1-0088c1e54f69",
   "metadata": {},
   "source": [
    "Below are the 2 functions which break down what we're trying to accomplish.\n",
    "\n",
    "The get_feat_shuffled_score is used inside the my_permutation_importance.\n",
    "\n",
    "The get_feat_shuffled_score function shuffles the values of a feature in a dataset and returns the score of the model on the shuffled dataset.\n",
    "\n",
    "Here is what each argument of the function does:\n",
    "\n",
    "model: The machine learning model that you want to evaluate.<br>\n",
    "X: The input features of your dataset.<br>\n",
    "y: The target variable of your dataset.<br>\n",
    "feat: The name of the feature that you want to shuffle.<br>\n",
    "random_state: The random seed used for shuffling.<br>\n",
    "\n",
    "The function shuffles the values of the feature specified by feat in the input features X. It then returns the score of the model on the shuffled dataset.\n",
    "\n",
    "You're going to have to forgive the \\** , because I don't know how to use a string inside Pandas assign without the double-stars."
   ]
  },
  {
   "cell_type": "code",
   "execution_count": 8,
   "id": "3220888d-720b-439a-861e-a5003ba7f9f1",
   "metadata": {},
   "outputs": [],
   "source": [
    "def get_feat_shuffled_score(model, X, y, feat, random_state):\n",
    "    return model.score(\n",
    "                X.reset_index(drop=True).assign(\n",
    "                    **{feat : (\n",
    "                        X[feat]\n",
    "                        .sample(frac=1, random_state=random_state)\n",
    "                        .reset_index(drop=True)\n",
    "                    )}\n",
    "                ),\n",
    "                y.reset_index(drop=True)\n",
    "            )"
   ]
  },
  {
   "cell_type": "markdown",
   "id": "7e1352df-115e-48ad-944a-eccdc75a403a",
   "metadata": {},
   "source": [
    "The my_permutation_importance function gets the original non-shuffled score of the model and then shuffles the data 1 feature at a time and gets the difference of the model score on the randomly shuffled dataset.\n",
    "\n",
    "Here is how the function works:\n",
    "\n",
    "1. It first calculates the original score of the model on the input data.\n",
    "2. For each feature in X, it shuffles that feature n_repeats times and calculates the score of the model on each shuffled dataset.\n",
    "3. It then calculates the difference between the original score and each shuffled score for each feature.\n",
    "4. It stores these differences in an array called feat_level_importances.\n",
    "5. It then appends feat_level_importances to permutation_dict[‘importances’] as a new row.\n",
    "6. It also appends feat_level_importances.mean() to permutation_dict[‘importances_mean’] and feat_level_importances.std() to permutation_dict[‘importances_std’].\n",
    "\n",
    "The function takes in five parameters:\n",
    "\n",
    "model: the estimator for which feature importance needs to be calculated.<br>\n",
    "X: the input data.<br>\n",
    "y: the target variable.<br>\n",
    "n_repeats: the number of times a feature is randomly shuffled.<br>\n",
    "random_state: the random seed\n",
    "\n",
    "The function returns a dictionary containing three keys:\n",
    "\n",
    "importances_mean: an array containing the mean importance score for each feature.<br>\n",
    "importances_std: an array containing the standard deviation of importance scores for each feature.<br>\n",
    "importances: a 2D array containing the importance scores for each feature across all repeats."
   ]
  },
  {
   "cell_type": "code",
   "execution_count": 9,
   "id": "ea948bc0-3d4b-46d4-96f3-1d6091f81706",
   "metadata": {},
   "outputs": [],
   "source": [
    "def my_permutation_importance(model, X, y, n_repeats, random_state):\n",
    "    permutation_dict = {\n",
    "        'importances_mean': np.array([]),\n",
    "        'importances_std': np.array([]),\n",
    "        'importances': np.empty([0, n_repeats])\n",
    "    }\n",
    "    orig_score = model.score(X, y)\n",
    "\n",
    "    for feat in X.columns:\n",
    "        feat_level_importances = np.array([])\n",
    "        \n",
    "        for i in range(n_repeats):\n",
    "            new_score = get_feat_shuffled_score(model, X, y, feat, random_state+i)   \n",
    "            score_difference = orig_score-new_score\n",
    "            feat_level_importances = np.append(feat_level_importances, score_difference)\n",
    "        \n",
    "        permutation_dict['importances'] = np.vstack([permutation_dict['importances'], feat_level_importances.reshape(1,-1)])\n",
    "        permutation_dict['importances_mean'] = np.append(permutation_dict['importances_mean'], feat_level_importances.mean())\n",
    "        permutation_dict['importances_std'] = np.append(permutation_dict['importances_std'], feat_level_importances.std())\n",
    "        \n",
    "    return permutation_dict"
   ]
  },
  {
   "cell_type": "markdown",
   "id": "ceba60f3-a483-48e0-921a-c86b8d189686",
   "metadata": {},
   "source": [
    "The following block of code is the permutation importance we made from scratch."
   ]
  },
  {
   "cell_type": "code",
   "execution_count": 10,
   "id": "87528067-257d-487d-a493-180ca06bba11",
   "metadata": {},
   "outputs": [],
   "source": [
    "my_result = my_permutation_importance(\n",
    "    rf, X_test, y_test, n_repeats=50, random_state=42\n",
    ")"
   ]
  },
  {
   "cell_type": "markdown",
   "id": "b94ebbae-3f03-4fc4-984d-cbdc2f4781f1",
   "metadata": {},
   "source": [
    "This following block of code is the permutation importance from SKlearn"
   ]
  },
  {
   "cell_type": "code",
   "execution_count": 11,
   "id": "6d25ed54-0cff-4954-be93-14b9200460d0",
   "metadata": {},
   "outputs": [],
   "source": [
    "from sklearn.inspection import permutation_importance\n",
    "\n",
    "result = permutation_importance(\n",
    "    rf, X_test, y_test, n_repeats=50, random_state=42\n",
    ")"
   ]
  },
  {
   "cell_type": "markdown",
   "id": "bf416bb3-b764-4be8-9429-524eca09bbdb",
   "metadata": {},
   "source": [
    "This plot_permutation_importance is just a fancy function to print fancy graphs. I stole it from SKlearn's site."
   ]
  },
  {
   "cell_type": "code",
   "execution_count": 12,
   "id": "b7140e67-10b1-488d-8491-11a932b1c690",
   "metadata": {},
   "outputs": [],
   "source": [
    "def plot_permutation_importance(perm_dict, X, title):\n",
    "    sorted_importances_idx = perm_dict['importances_mean'].argsort()\n",
    "    importances = pd.DataFrame(\n",
    "        perm_dict['importances'][sorted_importances_idx].T,\n",
    "        columns=X.columns[sorted_importances_idx],\n",
    "    )\n",
    "    ax = importances.plot.box(vert=False, whis=10)\n",
    "    ax.set_title(title)\n",
    "    ax.axvline(x=0, color=\"k\", linestyle=\"--\")\n",
    "    ax.set_xlabel('Decrease in accuracy score')\n",
    "    ax.figure.tight_layout()"
   ]
  },
  {
   "cell_type": "markdown",
   "id": "99521da3-edcc-436d-a59c-fd88541aeeff",
   "metadata": {},
   "source": [
    "And below we have 2 graphs.\n",
    "\n",
    "SKlearn's permutation importance on top and mine on the bottom.\n",
    "\n",
    "They're essentially the same. There's a bit of discrepency which is likely due to how the random state is handled between the 2 methods.\n",
    "\n",
    "Other than that, you now know how permutation importance works from scratch."
   ]
  },
  {
   "cell_type": "code",
   "execution_count": 13,
   "id": "67a28154-d267-4d49-8a70-ed75c7a203d5",
   "metadata": {},
   "outputs": [
    {
     "data": {
      "image/png": "[encoded data removed]",
      "text/plain": [
       "<Figure size 432x288 with 1 Axes>"
      ]
     },
     "metadata": {
      "needs_background": "light"
     },
     "output_type": "display_data"
    }
   ],
   "source": [
    "plot_permutation_importance(result, X_test, 'SKlearn Permutation Importance')"
   ]
  },
  {
   "cell_type": "code",
   "execution_count": 14,
   "id": "39da2c26-6eb3-405b-9fe1-acaa58c25c56",
   "metadata": {},
   "outputs": [
    {
     "data": {
      "image/png": "[encoded data removed]",
      "text/plain": [
       "<Figure size 432x288 with 1 Axes>"
      ]
     },
     "metadata": {
      "needs_background": "light"
     },
     "output_type": "display_data"
    }
   ],
   "source": [
    "plot_permutation_importance(my_result, X_test, 'My Permutation Importance')"
   ]
  }
 ],
 "metadata": {
  "kernelspec": {
   "display_name": "Python 3 (ipykernel)",
   "language": "python",
   "name": "python3"
  },
  "language_info": {
   "codemirror_mode": {
    "name": "ipython",
    "version": 3
   },
   "file_extension": ".py",
   "mimetype": "text/x-python",
   "name": "python",
   "nbconvert_exporter": "python",
   "pygments_lexer": "ipython3",
   "version": "3.9.7"
  }
 },
 "nbformat": 4,
 "nbformat_minor": 5
}
